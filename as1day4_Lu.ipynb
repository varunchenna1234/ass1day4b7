{
  "nbformat": 4,
  "nbformat_minor": 0,
  "metadata": {
    "colab": {
      "name": "as1day4 Lu.ipynb",
      "provenance": [],
      "authorship_tag": "ABX9TyMvABh1qxXWWD/hgGltasl9",
      "include_colab_link": true
    },
    "kernelspec": {
      "name": "python3",
      "display_name": "Python 3"
    }
  },
  "cells": [
    {
      "cell_type": "markdown",
      "metadata": {
        "id": "view-in-github",
        "colab_type": "text"
      },
      "source": [
        "<a href=\"https://colab.research.google.com/github/varunchenna1234/ass1day4b7/blob/master/as1day4_Lu.ipynb\" target=\"_parent\"><img src=\"https://colab.research.google.com/assets/colab-badge.svg\" alt=\"Open In Colab\"/></a>"
      ]
    },
    {
      "cell_type": "code",
      "metadata": {
        "id": "3YNOtIcqrdaF",
        "colab_type": "code",
        "colab": {}
      },
      "source": [
        "\n",
        "for num in range(10420000,702648265):\n",
        "   # initialize sum\n",
        "   sum = 0\n",
        "   count=0\n",
        " \n",
        "   # find the sum of the cube of each digit\n",
        "   temp = num\n",
        "   while temp > 0:\n",
        "       digit = temp % 10\n",
        "       sum += digit ** 3\n",
        "       temp //= 10\n",
        " \n",
        "   if num == sum:\n",
        "       count+=1\n",
        "   if count==1:\n",
        "       print(\"The first armstrong number is \"+i)"
      ],
      "execution_count": null,
      "outputs": []
    }
  ]
}